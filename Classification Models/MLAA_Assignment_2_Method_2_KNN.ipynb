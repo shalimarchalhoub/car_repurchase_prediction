{
  "cells": [
    {
      "cell_type": "markdown",
      "metadata": {
        "id": "uQ6wc2HE0pke"
      },
      "source": [
        "# **K Nearest Neighbor KNN**\n",
        "\n",
        "\n"
      ]
    },
    {
      "cell_type": "markdown",
      "metadata": {
        "id": "3IwbDesTs-dr"
      },
      "source": [
        "## 1. Load and Prepare Datasets"
      ]
    },
    {
      "cell_type": "markdown",
      "metadata": {
        "id": "qMQmbGW_tKJ-"
      },
      "source": [
        "Importing Packages"
      ]
    },
    {
      "cell_type": "code",
      "execution_count": 58,
      "metadata": {
        "id": "ykWfXSdAtKR-"
      },
      "outputs": [],
      "source": [
        "# Import packages\n",
        "import pandas as pd\n",
        "import numpy as np\n",
        "import altair as alt\n",
        "import matplotlib as plt\n",
        "from sklearn.neighbors import KNeighborsClassifier\n",
        "from sklearn.model_selection import train_test_split\n",
        "from sklearn.metrics import accuracy_score, precision_score, recall_score, f1_score,roc_auc_score,confusion_matrix\n",
        "from sklearn.ensemble import RandomForestClassifier"
      ]
    },
    {
      "cell_type": "markdown",
      "metadata": {
        "id": "Cp05CHPp34MG"
      },
      "source": [
        "## Data Splitting\n",
        "\n",
        "There is no need for data preparation since it was all done in the first part and saved in a new csv file that is used for this experiment and the future ones"
      ]
    },
    {
      "cell_type": "code",
      "execution_count": 59,
      "metadata": {
        "id": "PDOcS9C24GIP"
      },
      "outputs": [],
      "source": [
        "#import the saved datasets again to check that they have downloaded and imported correctly \n",
        "X_train = pd.read_csv('https://raw.githubusercontent.com/shalimarchalhoub/Rephurase_MLAA/main/train_data.csv')\n",
        "X_dev = pd.read_csv('https://raw.githubusercontent.com/shalimarchalhoub/Rephurase_MLAA/main/dev_data.csv')\n",
        "X_test = pd.read_csv('https://raw.githubusercontent.com/shalimarchalhoub/Rephurase_MLAA/main/test_data.csv')\n",
        "y_train = pd.read_csv('https://raw.githubusercontent.com/shalimarchalhoub/Rephurase_MLAA/main/y_train.csv')\n",
        "y_dev = pd.read_csv('https://raw.githubusercontent.com/shalimarchalhoub/Rephurase_MLAA/main/y_dev.csv')\n",
        "y_test = pd.read_csv('https://raw.githubusercontent.com/shalimarchalhoub/Rephurase_MLAA/main/y_test.csv')"
      ]
    },
    {
      "cell_type": "markdown",
      "metadata": {
        "id": "nswcIItOyytF"
      },
      "source": [
        "## Data Sampling"
      ]
    },
    {
      "cell_type": "code",
      "execution_count": 60,
      "metadata": {
        "id": "-LIV9oGh9p61"
      },
      "outputs": [],
      "source": [
        "#IMporting the EditNearestNeighbout class\n",
        "from imblearn.under_sampling import EditedNearestNeighbours\n",
        "\n",
        "#initiating an EditedNearestNeighbours object\n",
        "enn = EditedNearestNeighbours()\n",
        "\n",
        "#Fitting it on the trained data\n",
        "X_train, y_train = enn.fit_resample(X_train, y_train)"
      ]
    },
    {
      "cell_type": "code",
      "execution_count": 61,
      "metadata": {
        "colab": {
          "base_uri": "https://localhost:8080/"
        },
        "id": "MkGrlNeQ358v",
        "outputId": "becc89f8-7511-41e3-8a47-1b76b517057f"
      },
      "outputs": [
        {
          "output_type": "stream",
          "name": "stdout",
          "text": [
            "The size of X_train is: (81401, 36)\n",
            "The size of X_dev is: (20578, 36)\n",
            "The size of X_test is: (25723, 36)\n",
            "The size of y_train is: (81401, 1)\n",
            "The size of y_dev is: (20578, 1)\n",
            "The size of y_test is: (25723, 1)\n"
          ]
        }
      ],
      "source": [
        "#Checking the sizes of my datasets\n",
        "print(\"The size of X_train is:\",X_train.shape)\n",
        "print(\"The size of X_dev is:\",X_dev.shape)\n",
        "print(\"The size of X_test is:\",X_test.shape)\n",
        "print(\"The size of y_train is:\",y_train.shape)\n",
        "print(\"The size of y_dev is:\", y_dev.shape)\n",
        "print(\"The size of y_test is:\",y_test.shape)"
      ]
    },
    {
      "cell_type": "code",
      "execution_count": 62,
      "metadata": {
        "colab": {
          "base_uri": "https://localhost:8080/"
        },
        "id": "Q2VgE-pE5Bof",
        "outputId": "b592cf31-e0c2-4945-b230-efb4554139ec"
      },
      "outputs": [
        {
          "output_type": "execute_result",
          "data": {
            "text/plain": [
              "Target\n",
              "0         79147\n",
              "1          2254\n",
              "dtype: int64"
            ]
          },
          "metadata": {},
          "execution_count": 62
        }
      ],
      "source": [
        "y_train.value_counts()"
      ]
    },
    {
      "cell_type": "code",
      "execution_count": 63,
      "metadata": {
        "colab": {
          "base_uri": "https://localhost:8080/"
        },
        "id": "welEbroD5Em3",
        "outputId": "fdf64477-945d-45ac-acba-4e2c40d7335b"
      },
      "outputs": [
        {
          "output_type": "execute_result",
          "data": {
            "text/plain": [
              "Target\n",
              "0         20015\n",
              "1           563\n",
              "dtype: int64"
            ]
          },
          "metadata": {},
          "execution_count": 63
        }
      ],
      "source": [
        "y_dev.value_counts()"
      ]
    },
    {
      "cell_type": "code",
      "execution_count": 64,
      "metadata": {
        "colab": {
          "base_uri": "https://localhost:8080/"
        },
        "id": "pXRtm9Az5HFX",
        "outputId": "e6b5fb44-4dc3-434d-b111-16369c1b8dd2"
      },
      "outputs": [
        {
          "output_type": "execute_result",
          "data": {
            "text/plain": [
              "Target\n",
              "0         25019\n",
              "1           704\n",
              "dtype: int64"
            ]
          },
          "metadata": {},
          "execution_count": 64
        }
      ],
      "source": [
        "y_test.value_counts()"
      ]
    },
    {
      "cell_type": "markdown",
      "metadata": {
        "id": "PcmEGHLMzpKY"
      },
      "source": [
        "## Modeling"
      ]
    },
    {
      "cell_type": "markdown",
      "metadata": {
        "id": "VGSmAsyuzrEC"
      },
      "source": [
        "### Assesing Baseline Model"
      ]
    },
    {
      "cell_type": "code",
      "execution_count": 65,
      "metadata": {
        "colab": {
          "base_uri": "https://localhost:8080/"
        },
        "id": "1Lx1X71bvntB",
        "outputId": "387a7638-c68b-40ba-c286-f233a7632540"
      },
      "outputs": [
        {
          "output_type": "stream",
          "name": "stdout",
          "text": [
            "The Precision Score of this model is: 0.027690077517475216\n",
            "The Accuracy Score of this model is: 0.027690077517475216\n"
          ]
        }
      ],
      "source": [
        "# Creating a database filled with 1\n",
        "y_base = np.full(y_train.shape, 1)\n",
        "\n",
        "# Calculating the precision score\n",
        "print(\"The Precision Score of this model is:\",precision_score(y_train, y_base))\n",
        "\n",
        "# Calculating the accuracy score\n",
        "print(\"The Accuracy Score of this model is:\",accuracy_score(y_train, y_base))\n"
      ]
    },
    {
      "cell_type": "markdown",
      "metadata": {
        "id": "q8Qg3HNztX6h"
      },
      "source": [
        "### Train a KNN Classifier"
      ]
    },
    {
      "cell_type": "code",
      "execution_count": 66,
      "metadata": {
        "colab": {
          "base_uri": "https://localhost:8080/"
        },
        "id": "Kmymp4S18MqY",
        "outputId": "cc95b5f1-ee4c-4fb2-fdd6-a9c5484b02fa"
      },
      "outputs": [
        {
          "output_type": "stream",
          "name": "stderr",
          "text": [
            "/usr/local/lib/python3.9/dist-packages/sklearn/neighbors/_classification.py:215: DataConversionWarning: A column-vector y was passed when a 1d array was expected. Please change the shape of y to (n_samples,), for example using ravel().\n",
            "  return self._fit(X, y)\n"
          ]
        },
        {
          "output_type": "stream",
          "name": "stdout",
          "text": [
            "The recall Score of this model is: 0.5425909494232476\n",
            "The f1 Score of this model is: 0.7010604757810261\n"
          ]
        }
      ],
      "source": [
        "# Fitting the KNN classifier on the ENN undersampled data\n",
        "knn_reg = KNeighborsClassifier(n_neighbors=22, metric='euclidean')\n",
        "knn_reg.fit(X_train, y_train)\n",
        "\n",
        "#Making Predictions\n",
        "y_train_preds = knn_reg.predict(X_train)\n",
        "\n",
        "#Checking the recall score\n",
        "print(\"The recall Score of this model is:\",recall_score(y_train, y_train_preds))\n",
        "\n",
        "# Calculating the f1 score\n",
        "print(\"The f1 Score of this model is:\",f1_score(y_train, y_train_preds))\n"
      ]
    },
    {
      "cell_type": "markdown",
      "metadata": {
        "id": "DfwJ0YG8CnRd"
      },
      "source": [
        "Predicting Dev data"
      ]
    },
    {
      "cell_type": "code",
      "execution_count": 67,
      "metadata": {
        "colab": {
          "base_uri": "https://localhost:8080/"
        },
        "id": "en-tNZiXCsGS",
        "outputId": "022dda9e-575b-4004-ad60-fbf91052dbd5"
      },
      "outputs": [
        {
          "output_type": "stream",
          "name": "stdout",
          "text": [
            "The recall Score of this model is: 0.5399644760213144\n",
            "The f1 Score of this model is: 0.6681318681318681\n"
          ]
        },
        {
          "output_type": "execute_result",
          "data": {
            "text/plain": [
              "array([[19972,    43],\n",
              "       [  259,   304]])"
            ]
          },
          "metadata": {},
          "execution_count": 67
        }
      ],
      "source": [
        "#Making Predictions\n",
        "y_dev_preds = knn_reg.predict(X_dev)\n",
        "\n",
        "#Checking the recall score\n",
        "print(\"The recall Score of this model is:\",recall_score(y_dev, y_dev_preds))\n",
        "\n",
        "# Calculating the f1 score\n",
        "print(\"The f1 Score of this model is:\",f1_score(y_dev, y_dev_preds))\n",
        "\n",
        "#Checking the Confusion Matrix\n",
        "confusion_matrix(y_dev, y_dev_preds)"
      ]
    },
    {
      "cell_type": "markdown",
      "metadata": {
        "id": "vmc5n-_WC7xE"
      },
      "source": [
        "Test Dataset"
      ]
    },
    {
      "cell_type": "code",
      "execution_count": 68,
      "metadata": {
        "colab": {
          "base_uri": "https://localhost:8080/"
        },
        "id": "Y_BCD5P9C1Cl",
        "outputId": "c51b6f02-1422-45a6-f16b-6f7a27ecf265"
      },
      "outputs": [
        {
          "output_type": "stream",
          "name": "stdout",
          "text": [
            "The recall Score of this model is: 0.5440340909090909\n",
            "The f1 Score of this model is: 0.6790780141843972\n"
          ]
        },
        {
          "output_type": "execute_result",
          "data": {
            "text/plain": [
              "array([[24978,    41],\n",
              "       [  321,   383]])"
            ]
          },
          "metadata": {},
          "execution_count": 68
        }
      ],
      "source": [
        "#Making Predictions\n",
        "y_test_preds = knn_reg.predict(X_test)\n",
        "\n",
        "#Checking the recall score\n",
        "print(\"The recall Score of this model is:\",recall_score(y_test, y_test_preds))\n",
        "\n",
        "# Calculating the f1 score\n",
        "print(\"The f1 Score of this model is:\",f1_score(y_test, y_test_preds))\n",
        "\n",
        "#Checking the Confusion Matrix\n",
        "confusion_matrix(y_test, y_test_preds)"
      ]
    }
  ],
  "metadata": {
    "colab": {
      "provenance": []
    },
    "kernelspec": {
      "display_name": "Python 3",
      "name": "python3"
    }
  },
  "nbformat": 4,
  "nbformat_minor": 0
}