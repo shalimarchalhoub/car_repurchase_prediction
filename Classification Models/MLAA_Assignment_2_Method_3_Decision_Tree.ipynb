{
  "cells": [
    {
      "cell_type": "markdown",
      "metadata": {
        "id": "uQ6wc2HE0pke"
      },
      "source": [
        "# **Decision Tree**\n",
        "\n",
        "\n"
      ]
    },
    {
      "cell_type": "markdown",
      "metadata": {
        "id": "3IwbDesTs-dr"
      },
      "source": [
        "## 1. Load and Prepare Datasets"
      ]
    },
    {
      "cell_type": "markdown",
      "metadata": {
        "id": "qMQmbGW_tKJ-"
      },
      "source": [
        "Importing Packages"
      ]
    },
    {
      "cell_type": "code",
      "execution_count": 9,
      "metadata": {
        "id": "ykWfXSdAtKR-"
      },
      "outputs": [],
      "source": [
        "# Import packages\n",
        "import pandas as pd\n",
        "import numpy as np\n",
        "import altair as alt\n",
        "import matplotlib as plt\n",
        "from sklearn.metrics import recall_score, f1_score,roc_auc_score,confusion_matrix,ConfusionMatrixDisplay\n",
        "from sklearn.tree import DecisionTreeClassifier"
      ]
    },
    {
      "cell_type": "markdown",
      "source": [
        "## Importing Datasets\n",
        "\n",
        "I will be using datasets that have been preprocessed during the first experiment, and then split and saved into the below datasets that are ready to be used"
      ],
      "metadata": {
        "id": "xlDXWp1euVCj"
      }
    },
    {
      "cell_type": "code",
      "source": [
        "X_train = pd.read_csv('https://raw.githubusercontent.com/shalimarchalhoub/Rephurase_MLAA/main/train_data.csv')\n",
        "X_dev = pd.read_csv('https://raw.githubusercontent.com/shalimarchalhoub/Rephurase_MLAA/main/dev_data.csv')\n",
        "X_test = pd.read_csv('https://raw.githubusercontent.com/shalimarchalhoub/Rephurase_MLAA/main/test_data.csv')\n",
        "y_train = pd.read_csv('https://raw.githubusercontent.com/shalimarchalhoub/Rephurase_MLAA/main/y_train.csv')\n",
        "y_dev = pd.read_csv('https://raw.githubusercontent.com/shalimarchalhoub/Rephurase_MLAA/main/y_dev.csv')\n",
        "y_test = pd.read_csv('https://raw.githubusercontent.com/shalimarchalhoub/Rephurase_MLAA/main/y_test.csv')"
      ],
      "metadata": {
        "id": "Q4TkhY_OrZ6B"
      },
      "execution_count": 10,
      "outputs": []
    },
    {
      "cell_type": "code",
      "execution_count": 11,
      "metadata": {
        "id": "MkGrlNeQ358v",
        "colab": {
          "base_uri": "https://localhost:8080/"
        },
        "outputId": "10a8142d-04a9-4ffa-d5d9-2d7077bce22e"
      },
      "outputs": [
        {
          "output_type": "stream",
          "name": "stdout",
          "text": [
            "The size of X_train is: (82310, 36)\n",
            "The size of X_dev is: (20578, 36)\n",
            "The size of X_test is: (25723, 36)\n",
            "The size of y_train is: (82310, 1)\n",
            "The size of y_dev is: (20578, 1)\n",
            "The size of y_test is: (25723, 1)\n"
          ]
        }
      ],
      "source": [
        "#Checking the sizes of the datasets\n",
        "\n",
        "print(\"The size of X_train is:\",X_train.shape)\n",
        "print(\"The size of X_dev is:\",X_dev.shape)\n",
        "print(\"The size of X_test is:\",X_test.shape)\n",
        "print(\"The size of y_train is:\",y_train.shape)\n",
        "print(\"The size of y_dev is:\", y_dev.shape)\n",
        "print(\"The size of y_test is:\",y_test.shape)"
      ]
    },
    {
      "cell_type": "code",
      "execution_count": 12,
      "metadata": {
        "id": "Q2VgE-pE5Bof",
        "colab": {
          "base_uri": "https://localhost:8080/"
        },
        "outputId": "a6382cbd-07f0-49e3-cf7e-116a42b834c5"
      },
      "outputs": [
        {
          "output_type": "execute_result",
          "data": {
            "text/plain": [
              "Target\n",
              "0         80056\n",
              "1          2254\n",
              "dtype: int64"
            ]
          },
          "metadata": {},
          "execution_count": 12
        }
      ],
      "source": [
        "#checking the distribution of the Target values among the train dataset\n",
        "\n",
        "y_train.value_counts()"
      ]
    },
    {
      "cell_type": "code",
      "execution_count": 13,
      "metadata": {
        "id": "welEbroD5Em3",
        "colab": {
          "base_uri": "https://localhost:8080/"
        },
        "outputId": "a241987b-de7e-4e98-ca7c-90f1ed798c18"
      },
      "outputs": [
        {
          "output_type": "execute_result",
          "data": {
            "text/plain": [
              "Target\n",
              "0         20015\n",
              "1           563\n",
              "dtype: int64"
            ]
          },
          "metadata": {},
          "execution_count": 13
        }
      ],
      "source": [
        "#checking the distribution of the Target values among the dev dataset\n",
        "\n",
        "y_dev.value_counts()"
      ]
    },
    {
      "cell_type": "code",
      "execution_count": 14,
      "metadata": {
        "id": "pXRtm9Az5HFX",
        "colab": {
          "base_uri": "https://localhost:8080/"
        },
        "outputId": "22aba733-f247-4c8f-d029-3c8895869ab0"
      },
      "outputs": [
        {
          "output_type": "execute_result",
          "data": {
            "text/plain": [
              "Target\n",
              "0         25019\n",
              "1           704\n",
              "dtype: int64"
            ]
          },
          "metadata": {},
          "execution_count": 14
        }
      ],
      "source": [
        "#checking the distribution of the Target values among the test dataset\n",
        "\n",
        "y_test.value_counts()"
      ]
    },
    {
      "cell_type": "markdown",
      "metadata": {
        "id": "PcmEGHLMzpKY"
      },
      "source": [
        "## Modeling"
      ]
    },
    {
      "cell_type": "markdown",
      "metadata": {
        "id": "VGSmAsyuzrEC"
      },
      "source": [
        "### Assesing Baseline Model"
      ]
    },
    {
      "cell_type": "code",
      "execution_count": 15,
      "metadata": {
        "id": "1Lx1X71bvntB",
        "colab": {
          "base_uri": "https://localhost:8080/"
        },
        "outputId": "b55a983d-aff0-4eee-f042-3e59a6f30ea7"
      },
      "outputs": [
        {
          "output_type": "stream",
          "name": "stdout",
          "text": [
            "The recall Score of this model is: 1.0\n",
            "The f1 Score of this model is: 0.053308736578212945\n"
          ]
        }
      ],
      "source": [
        "# Creating a database filled with 1\n",
        "y_base = np.full(y_train.shape, 1)\n",
        "\n",
        "# Calculating the recall score\n",
        "print(\"The recall Score of this model is:\",recall_score(y_train, y_base))\n",
        "\n",
        "# Calculating the f1 score\n",
        "print(\"The f1 Score of this model is:\",f1_score(y_train, y_base))\n"
      ]
    },
    {
      "cell_type": "markdown",
      "metadata": {
        "id": "q8Qg3HNztX6h"
      },
      "source": [
        "### Train a Decision Tree Classifier"
      ]
    },
    {
      "cell_type": "code",
      "execution_count": 16,
      "metadata": {
        "id": "Kmymp4S18MqY",
        "colab": {
          "base_uri": "https://localhost:8080/"
        },
        "outputId": "d1a4e67d-a50d-4fae-f6e4-690ee72c1df3"
      },
      "outputs": [
        {
          "output_type": "stream",
          "name": "stdout",
          "text": [
            "The Recall Score of this model is: 0.8087843833185449\n",
            "The f1 Score of this model is: 0.8568742655699177\n"
          ]
        },
        {
          "output_type": "execute_result",
          "data": {
            "text/plain": [
              "array([[79878,   178],\n",
              "       [  431,  1823]])"
            ]
          },
          "metadata": {},
          "execution_count": 16
        }
      ],
      "source": [
        "#Initiating a Decision Tree class with spcific hyperparameters\n",
        "tree = DecisionTreeClassifier(random_state=42, min_samples_split=30, max_depth =15)\n",
        "\n",
        "#Fitting the data in it\n",
        "tree.fit(X_train, y_train)\n",
        "\n",
        "#Making Predictions\n",
        "y_train_preds = tree.predict(X_train)\n",
        "\n",
        "#Checking the Recall scores\n",
        "print(\"The Recall Score of this model is:\",recall_score(y_train, y_train_preds))\n",
        "\n",
        "# Calculating the f1 score\n",
        "print(\"The f1 Score of this model is:\",f1_score(y_train, y_train_preds))\n",
        "\n",
        "#Checking the Confusion Matrix\n",
        "confusion_matrix(y_train, y_train_preds)\n"
      ]
    },
    {
      "cell_type": "markdown",
      "source": [
        "Model is overfitting the trainig data but we wil check on the dev data"
      ],
      "metadata": {
        "id": "PrA1UphJ5jnP"
      }
    },
    {
      "cell_type": "markdown",
      "metadata": {
        "id": "DfwJ0YG8CnRd"
      },
      "source": [
        "Predicting Dev data"
      ]
    },
    {
      "cell_type": "code",
      "execution_count": 17,
      "metadata": {
        "id": "en-tNZiXCsGS",
        "colab": {
          "base_uri": "https://localhost:8080/"
        },
        "outputId": "ef07a702-03df-4ae1-d285-416208fe0b24"
      },
      "outputs": [
        {
          "output_type": "stream",
          "name": "stdout",
          "text": [
            "The Recall Score of this model is: 0.7300177619893428\n",
            "The f1 Score of this model is: 0.7851002865329513\n"
          ]
        },
        {
          "output_type": "execute_result",
          "data": {
            "text/plain": [
              "array([[19942,    73],\n",
              "       [  152,   411]])"
            ]
          },
          "metadata": {},
          "execution_count": 17
        }
      ],
      "source": [
        "#Making Predictions\n",
        "y_dev_preds = tree.predict(X_dev)\n",
        "\n",
        "#Checking the scores\n",
        "print(\"The Recall Score of this model is:\",recall_score(y_dev, y_dev_preds))\n",
        "\n",
        "# Calculating the accuracy score\n",
        "print(\"The f1 Score of this model is:\",f1_score(y_dev, y_dev_preds))\n",
        "\n",
        "#Checking the Confusion Matrix\n",
        "confusion_matrix(y_dev, y_dev_preds)"
      ]
    },
    {
      "cell_type": "markdown",
      "source": [
        "Model is performing well on the deviation test so we can go ahead and test it on the test set"
      ],
      "metadata": {
        "id": "kXlOsyan5pS2"
      }
    },
    {
      "cell_type": "markdown",
      "metadata": {
        "id": "vmc5n-_WC7xE"
      },
      "source": [
        "Test Dataset"
      ]
    },
    {
      "cell_type": "code",
      "execution_count": 18,
      "metadata": {
        "id": "Y_BCD5P9C1Cl",
        "colab": {
          "base_uri": "https://localhost:8080/"
        },
        "outputId": "990b9fea-f835-4954-9a63-8b8638bba02b"
      },
      "outputs": [
        {
          "output_type": "stream",
          "name": "stdout",
          "text": [
            "The recall Score of this model is: 0.7471590909090909\n",
            "The f1 Score of this model is: 0.8036669213139802\n"
          ]
        },
        {
          "output_type": "execute_result",
          "data": {
            "text/plain": [
              "array([[24940,    79],\n",
              "       [  178,   526]])"
            ]
          },
          "metadata": {},
          "execution_count": 18
        }
      ],
      "source": [
        "#Making Predictions\n",
        "y_test_preds = tree.predict(X_test)\n",
        "\n",
        "#Checking recall the scores\n",
        "print(\"The recall Score of this model is:\",recall_score(y_test, y_test_preds))\n",
        "\n",
        "# Calculating the f1 score\n",
        "print(\"The f1 Score of this model is:\",f1_score(y_test, y_test_preds))\n",
        "\n",
        "#Checking the Confusion Matrix\n",
        "confusion_matrix(y_test, y_test_preds)"
      ]
    },
    {
      "cell_type": "code",
      "source": [
        "ConfusionMatrixDisplay.from_estimator(tree, X_train, y_train, normalize='true')\n",
        "ConfusionMatrixDisplay.from_estimator(tree, X_test, y_test, normalize='true')"
      ],
      "metadata": {
        "colab": {
          "base_uri": "https://localhost:8080/",
          "height": 898
        },
        "id": "qVudAgSQHAI6",
        "outputId": "ce50fbd2-b919-4ce2-a538-b463e10e0a8c"
      },
      "execution_count": 19,
      "outputs": [
        {
          "output_type": "execute_result",
          "data": {
            "text/plain": [
              "<sklearn.metrics._plot.confusion_matrix.ConfusionMatrixDisplay at 0x7fb52dc72d90>"
            ]
          },
          "metadata": {},
          "execution_count": 19
        },
        {
          "output_type": "display_data",
          "data": {
            "text/plain": [
              "<Figure size 640x480 with 2 Axes>"
            ],
            "image/png": "[encoded data removed]"
          },
          "metadata": {}
        },
        {
          "output_type": "display_data",
          "data": {
            "text/plain": [
              "<Figure size 640x480 with 2 Axes>"
            ],
            "image/png": "[encoded data removed]"
          },
          "metadata": {}
        }
      ]
    }
  ],
  "metadata": {
    "colab": {
      "provenance": [],
      "toc_visible": true
    },
    "kernelspec": {
      "display_name": "Python 3",
      "name": "python3"
    }
  },
  "nbformat": 4,
  "nbformat_minor": 0
}