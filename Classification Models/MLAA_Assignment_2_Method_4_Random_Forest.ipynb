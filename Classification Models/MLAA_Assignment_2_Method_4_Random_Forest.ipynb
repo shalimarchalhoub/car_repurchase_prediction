{
  "cells": [
    {
      "cell_type": "markdown",
      "metadata": {
        "id": "uQ6wc2HE0pke"
      },
      "source": [
        "# **Random Forest**\n",
        "\n",
        "\n"
      ]
    },
    {
      "cell_type": "markdown",
      "metadata": {
        "id": "3IwbDesTs-dr"
      },
      "source": [
        "## 1. Load and Prepare Datasets"
      ]
    },
    {
      "cell_type": "markdown",
      "metadata": {
        "id": "qMQmbGW_tKJ-"
      },
      "source": [
        "Importing Packages"
      ]
    },
    {
      "cell_type": "code",
      "execution_count": 26,
      "metadata": {
        "id": "ykWfXSdAtKR-"
      },
      "outputs": [],
      "source": [
        "# Import packages\n",
        "import pandas as pd\n",
        "import numpy as np\n",
        "import altair as alt\n",
        "import matplotlib as plt\n",
        "from sklearn.metrics import recall_score, f1_score,roc_auc_score,confusion_matrix, ConfusionMatrixDisplay\n",
        "from sklearn.ensemble import RandomForestClassifier"
      ]
    },
    {
      "cell_type": "markdown",
      "source": [
        "## Importing Datasets\n",
        "\n",
        "Importing the preprocessed and presplit datasets from the first experiment"
      ],
      "metadata": {
        "id": "xlDXWp1euVCj"
      }
    },
    {
      "cell_type": "code",
      "source": [
        "#Importing the datasets\n",
        "X_train = pd.read_csv('https://raw.githubusercontent.com/shalimarchalhoub/Rephurase_MLAA/main/train_data.csv')\n",
        "X_dev = pd.read_csv('https://raw.githubusercontent.com/shalimarchalhoub/Rephurase_MLAA/main/dev_data.csv')\n",
        "X_test = pd.read_csv('https://raw.githubusercontent.com/shalimarchalhoub/Rephurase_MLAA/main/test_data.csv')\n",
        "y_train = pd.read_csv('https://raw.githubusercontent.com/shalimarchalhoub/Rephurase_MLAA/main/y_train.csv')\n",
        "y_dev = pd.read_csv('https://raw.githubusercontent.com/shalimarchalhoub/Rephurase_MLAA/main/y_dev.csv')\n",
        "y_test = pd.read_csv('https://raw.githubusercontent.com/shalimarchalhoub/Rephurase_MLAA/main/y_test.csv')"
      ],
      "metadata": {
        "id": "Q4TkhY_OrZ6B"
      },
      "execution_count": 27,
      "outputs": []
    },
    {
      "cell_type": "code",
      "execution_count": 28,
      "metadata": {
        "id": "MkGrlNeQ358v",
        "colab": {
          "base_uri": "https://localhost:8080/"
        },
        "outputId": "36289969-2b0a-4ba0-c5eb-9add777ec746"
      },
      "outputs": [
        {
          "output_type": "stream",
          "name": "stdout",
          "text": [
            "The size of X_train is: (82310, 36)\n",
            "The size of X_dev is: (20578, 36)\n",
            "The size of X_test is: (25723, 36)\n",
            "The size of y_train is: (82310, 1)\n",
            "The size of y_dev is: (20578, 1)\n",
            "The size of y_test is: (25723, 1)\n"
          ]
        }
      ],
      "source": [
        "#Checking the shapes of the datasets\n",
        "\n",
        "print(\"The size of X_train is:\",X_train.shape)\n",
        "print(\"The size of X_dev is:\",X_dev.shape)\n",
        "print(\"The size of X_test is:\",X_test.shape)\n",
        "print(\"The size of y_train is:\",y_train.shape)\n",
        "print(\"The size of y_dev is:\", y_dev.shape)\n",
        "print(\"The size of y_test is:\",y_test.shape)"
      ]
    },
    {
      "cell_type": "code",
      "execution_count": 29,
      "metadata": {
        "id": "Q2VgE-pE5Bof",
        "colab": {
          "base_uri": "https://localhost:8080/"
        },
        "outputId": "c0f30260-9b07-4031-cb53-a4d25a6564b8"
      },
      "outputs": [
        {
          "output_type": "execute_result",
          "data": {
            "text/plain": [
              "Target\n",
              "0         80056\n",
              "1          2254\n",
              "dtype: int64"
            ]
          },
          "metadata": {},
          "execution_count": 29
        }
      ],
      "source": [
        "#Distribution of the target values in the train dataset\n",
        "y_train.value_counts()"
      ]
    },
    {
      "cell_type": "code",
      "execution_count": 30,
      "metadata": {
        "id": "welEbroD5Em3",
        "colab": {
          "base_uri": "https://localhost:8080/"
        },
        "outputId": "63655e72-9edc-45e0-fa47-647c733ac17a"
      },
      "outputs": [
        {
          "output_type": "execute_result",
          "data": {
            "text/plain": [
              "Target\n",
              "0         20015\n",
              "1           563\n",
              "dtype: int64"
            ]
          },
          "metadata": {},
          "execution_count": 30
        }
      ],
      "source": [
        "#Distribution of the target values in the dev dataset\n",
        "y_dev.value_counts()"
      ]
    },
    {
      "cell_type": "code",
      "execution_count": 31,
      "metadata": {
        "id": "pXRtm9Az5HFX",
        "colab": {
          "base_uri": "https://localhost:8080/"
        },
        "outputId": "faf742e5-373f-4343-e96d-f1889d3d1b4d"
      },
      "outputs": [
        {
          "output_type": "execute_result",
          "data": {
            "text/plain": [
              "Target\n",
              "0         25019\n",
              "1           704\n",
              "dtype: int64"
            ]
          },
          "metadata": {},
          "execution_count": 31
        }
      ],
      "source": [
        "#Distribution of the target values in the test dataset\n",
        "y_test.value_counts()"
      ]
    },
    {
      "cell_type": "markdown",
      "metadata": {
        "id": "PcmEGHLMzpKY"
      },
      "source": [
        "## Modeling"
      ]
    },
    {
      "cell_type": "markdown",
      "metadata": {
        "id": "VGSmAsyuzrEC"
      },
      "source": [
        "### Assesing Baseline Model"
      ]
    },
    {
      "cell_type": "code",
      "execution_count": 32,
      "metadata": {
        "id": "1Lx1X71bvntB",
        "colab": {
          "base_uri": "https://localhost:8080/"
        },
        "outputId": "706b84fa-91e1-42fa-f72b-7f231d4e0991"
      },
      "outputs": [
        {
          "output_type": "stream",
          "name": "stdout",
          "text": [
            "The Precision Score of this model is: 0.027384278945450126\n",
            "The Accuracy Score of this model is: 0.027384278945450126\n"
          ]
        }
      ],
      "source": [
        "# Creating a database filled with 1\n",
        "y_base = np.full(y_train.shape, 1)\n",
        "\n",
        "# Calculating the precision score\n",
        "print(\"The Precision Score of this model is:\",precision_score(y_train, y_base))\n",
        "\n",
        "# Calculating the accuracy score\n",
        "print(\"The Accuracy Score of this model is:\",accuracy_score(y_train, y_base))\n"
      ]
    },
    {
      "cell_type": "markdown",
      "metadata": {
        "id": "q8Qg3HNztX6h"
      },
      "source": [
        "### Train Random Forest Classifier"
      ]
    },
    {
      "cell_type": "code",
      "execution_count": 33,
      "metadata": {
        "id": "Kmymp4S18MqY",
        "colab": {
          "base_uri": "https://localhost:8080/"
        },
        "outputId": "8a6f5645-cd63-4495-a196-79ca541ebc3b"
      },
      "outputs": [
        {
          "output_type": "stream",
          "name": "stderr",
          "text": [
            "<ipython-input-33-e261ab5c88fc>:5: DataConversionWarning: A column-vector y was passed when a 1d array was expected. Please change the shape of y to (n_samples,), for example using ravel().\n",
            "  rf.fit(X_train, y_train)\n"
          ]
        },
        {
          "output_type": "stream",
          "name": "stdout",
          "text": [
            "The Recall Score of this model is: 0.7848269742679681\n",
            "The f1 Score of this model is: 0.8564512224642944\n"
          ]
        },
        {
          "output_type": "execute_result",
          "data": {
            "text/plain": [
              "array([[79948,   108],\n",
              "       [  485,  1769]])"
            ]
          },
          "metadata": {},
          "execution_count": 33
        }
      ],
      "source": [
        "#Initiating a Random Forest classifier\n",
        "rf= RandomForestClassifier(random_state=42,n_estimators=100,max_depth=15,min_samples_leaf=10,max_features=None)\n",
        "\n",
        "#Fitting the data in it\n",
        "rf.fit(X_train, y_train)\n",
        "\n",
        "#Making Predictions\n",
        "y_train_preds = rf.predict(X_train)\n",
        "\n",
        "#Checking the recall scores\n",
        "print(\"The Recall Score of this model is:\",recall_score(y_train, y_train_preds))\n",
        "\n",
        "# Calculating the f1 score\n",
        "print(\"The f1 Score of this model is:\",f1_score(y_train, y_train_preds))\n",
        "\n",
        "#Checking the Confusion Matrix\n",
        "confusion_matrix(y_train, y_train_preds)\n"
      ]
    },
    {
      "cell_type": "code",
      "source": [
        "np.mean([estimator.tree_.max_depth for estimator in rf.estimators_])"
      ],
      "metadata": {
        "colab": {
          "base_uri": "https://localhost:8080/"
        },
        "id": "cqRoM3l4pKdS",
        "outputId": "7fa7e9e7-7e41-4145-835b-e47f18718dd2"
      },
      "execution_count": 34,
      "outputs": [
        {
          "output_type": "execute_result",
          "data": {
            "text/plain": [
              "15.0"
            ]
          },
          "metadata": {},
          "execution_count": 34
        }
      ]
    },
    {
      "cell_type": "markdown",
      "metadata": {
        "id": "DfwJ0YG8CnRd"
      },
      "source": [
        "Predicting Dev data"
      ]
    },
    {
      "cell_type": "code",
      "execution_count": 35,
      "metadata": {
        "id": "en-tNZiXCsGS",
        "colab": {
          "base_uri": "https://localhost:8080/"
        },
        "outputId": "289ee8dc-56f5-4c40-8b80-85e7da206e1b"
      },
      "outputs": [
        {
          "output_type": "stream",
          "name": "stdout",
          "text": [
            "The Recall Score of this model is: 0.7335701598579041\n",
            "The f1 Score of this model is: 0.8113948919449903\n"
          ]
        },
        {
          "output_type": "execute_result",
          "data": {
            "text/plain": [
              "array([[19973,    42],\n",
              "       [  150,   413]])"
            ]
          },
          "metadata": {},
          "execution_count": 35
        }
      ],
      "source": [
        "#Making Predictions\n",
        "y_dev_preds = rf.predict(X_dev)\n",
        "\n",
        "#Checking the recall scores\n",
        "print(\"The Recall Score of this model is:\",recall_score(y_dev, y_dev_preds))\n",
        "\n",
        "# Calculating the f1 score\n",
        "print(\"The f1 Score of this model is:\",f1_score(y_dev, y_dev_preds))\n",
        "\n",
        "#Checking the Confusion Matrix\n",
        "confusion_matrix(y_dev, y_dev_preds)"
      ]
    },
    {
      "cell_type": "markdown",
      "metadata": {
        "id": "vmc5n-_WC7xE"
      },
      "source": [
        "Test Dataset"
      ]
    },
    {
      "cell_type": "code",
      "execution_count": 36,
      "metadata": {
        "id": "Y_BCD5P9C1Cl",
        "colab": {
          "base_uri": "https://localhost:8080/"
        },
        "outputId": "819dcf1a-66f9-4db8-d0f9-75d61c1550da"
      },
      "outputs": [
        {
          "output_type": "stream",
          "name": "stdout",
          "text": [
            "The Recall Score of this model is: 0.7315340909090909\n",
            "The f1 Score of this model is: 0.8129439621152328\n"
          ]
        },
        {
          "output_type": "execute_result",
          "data": {
            "text/plain": [
              "array([[24971,    48],\n",
              "       [  189,   515]])"
            ]
          },
          "metadata": {},
          "execution_count": 36
        }
      ],
      "source": [
        "#Making Predictions\n",
        "y_test_preds = rf.predict(X_test)\n",
        "\n",
        "#Checking the recall scores\n",
        "print(\"The Recall Score of this model is:\",recall_score(y_test, y_test_preds))\n",
        "\n",
        "# Calculating the f1 score\n",
        "print(\"The f1 Score of this model is:\",f1_score(y_test, y_test_preds))\n",
        "\n",
        "#Checking the Confusion Matrix\n",
        "confusion_matrix(y_test, y_test_preds)"
      ]
    },
    {
      "cell_type": "code",
      "source": [
        "ConfusionMatrixDisplay.from_estimator(rf, X_train, y_train, normalize='true')\n",
        "ConfusionMatrixDisplay.from_estimator(rf, X_test, y_test, normalize='true')"
      ],
      "metadata": {
        "colab": {
          "base_uri": "https://localhost:8080/",
          "height": 898
        },
        "id": "QlQmUsc5W4NY",
        "outputId": "ce5575d0-bfdc-4bd6-efcc-7563d041974c"
      },
      "execution_count": 37,
      "outputs": [
        {
          "output_type": "execute_result",
          "data": {
            "text/plain": [
              "<sklearn.metrics._plot.confusion_matrix.ConfusionMatrixDisplay at 0x7f679c4a1370>"
            ]
          },
          "metadata": {},
          "execution_count": 37
        },
        {
          "output_type": "display_data",
          "data": {
            "text/plain": [
              "<Figure size 640x480 with 2 Axes>"
            ],
            "image/png": "[encoded data removed]"
          },
          "metadata": {}
        },
        {
          "output_type": "display_data",
          "data": {
            "text/plain": [
              "<Figure size 640x480 with 2 Axes>"
            ],
            "image/png": "[encoded data removed]"
          },
          "metadata": {}
        }
      ]
    },
    {
      "cell_type": "markdown",
      "source": [
        "## Feature Importance"
      ],
      "metadata": {
        "id": "v298_qCnsUaw"
      }
    },
    {
      "cell_type": "code",
      "source": [
        "#creating a dataframe containing the feature importances\n",
        "feat_imp_rf_df = pd.DataFrame(\n",
        "    {\n",
        "        'feature': X_train.columns,\n",
        "     'feature_importance': rf.feature_importances_\n",
        "     }\n",
        ")\n",
        "#displaying the feature importance \n",
        "feat_imp_rf_df\n"
      ],
      "metadata": {
        "id": "blsj2PKQsUIq"
      },
      "execution_count": null,
      "outputs": []
    },
    {
      "cell_type": "code",
      "source": [
        "#plotting feature importance\n",
        "feature_chart = alt.Chart(feat_imp_rf_df).mark_bar().encode(\n",
        "     x='feature',\n",
        "     y='feature_importance'\n",
        "  )\n",
        "feature_chart"
      ],
      "metadata": {
        "colab": {
          "base_uri": "https://localhost:8080/",
          "height": 483
        },
        "id": "_-Oxx88vYV8L",
        "outputId": "ed8689c9-0c97-44b4-c20c-75b575462857"
      },
      "execution_count": 53,
      "outputs": [
        {
          "output_type": "execute_result",
          "data": {
            "text/html": [
              "\n",
              "<div id=\"altair-viz-64233973654a4bd7b1ee214db235dcf3\"></div>\n",
              "<script type=\"text/javascript\">\n",
              "  var VEGA_DEBUG = (typeof VEGA_DEBUG == \"undefined\") ? {} : VEGA_DEBUG;\n",
              "  (function(spec, embedOpt){\n",
              "    let outputDiv = document.currentScript.previousElementSibling;\n",
              "    if (outputDiv.id !== \"altair-viz-64233973654a4bd7b1ee214db235dcf3\") {\n",
              "      outputDiv = document.getElementById(\"altair-viz-64233973654a4bd7b1ee214db235dcf3\");\n",
              "    }\n",
              "    const paths = {\n",
              "      \"vega\": \"https://cdn.jsdelivr.net/npm//vega@5?noext\",\n",
              "      \"vega-lib\": \"https://cdn.jsdelivr.net/npm//vega-lib?noext\",\n",
              "      \"vega-lite\": \"https://cdn.jsdelivr.net/npm//vega-lite@4.17.0?noext\",\n",
              "      \"vega-embed\": \"https://cdn.jsdelivr.net/npm//vega-embed@6?noext\",\n",
              "    };\n",
              "\n",
              "    function maybeLoadScript(lib, version) {\n",
              "      var key = `${lib.replace(\"-\", \"\")}_version`;\n",
              "      return (VEGA_DEBUG[key] == version) ?\n",
              "        Promise.resolve(paths[lib]) :\n",
              "        new Promise(function(resolve, reject) {\n",
              "          var s = document.createElement('script');\n",
              "          document.getElementsByTagName(\"head\")[0].appendChild(s);\n",
              "          s.async = true;\n",
              "          s.onload = () => {\n",
              "            VEGA_DEBUG[key] = version;\n",
              "            return resolve(paths[lib]);\n",
              "          };\n",
              "          s.onerror = () => reject(`Error loading script: ${paths[lib]}`);\n",
              "          s.src = paths[lib];\n",
              "        });\n",
              "    }\n",
              "\n",
              "    function showError(err) {\n",
              "      outputDiv.innerHTML = `<div class=\"error\" style=\"color:red;\">${err}</div>`;\n",
              "      throw err;\n",
              "    }\n",
              "\n",
              "    function displayChart(vegaEmbed) {\n",
              "      vegaEmbed(outputDiv, spec, embedOpt)\n",
              "        .catch(err => showError(`Javascript Error: ${err.message}<br>This usually means there's a typo in your chart specification. See the javascript console for the full traceback.`));\n",
              "    }\n",
              "\n",
              "    if(typeof define === \"function\" && define.amd) {\n",
              "      requirejs.config({paths});\n",
              "      require([\"vega-embed\"], displayChart, err => showError(`Error loading script: ${err.message}`));\n",
              "    } else {\n",
              "      maybeLoadScript(\"vega\", \"5\")\n",
              "        .then(() => maybeLoadScript(\"vega-lite\", \"4.17.0\"))\n",
              "        .then(() => maybeLoadScript(\"vega-embed\", \"6\"))\n",
              "        .catch(showError)\n",
              "        .then(() => displayChart(vegaEmbed));\n",
              "    }\n",
              "  })({\"config\": {\"view\": {\"continuousWidth\": 400, \"continuousHeight\": 300}}, \"data\": {\"name\": \"data-2fbcf1222cde55ddd42e3910facf15f1\"}, \"mark\": \"bar\", \"encoding\": {\"x\": {\"field\": \"feature\", \"type\": \"nominal\"}, \"y\": {\"field\": \"feature_importance\", \"type\": \"quantitative\"}}, \"$schema\": \"https://vega.github.io/schema/vega-lite/v4.17.0.json\", \"datasets\": {\"data-2fbcf1222cde55ddd42e3910facf15f1\": [{\"feature\": \"gender\", \"feature_importance\": 0.0009221683359930746}, {\"feature\": \"age_band\", \"feature_importance\": 0.0018573241051382577}, {\"feature\": \"age_of_vehicle_years\", \"feature_importance\": 0.10186760701292007}, {\"feature\": \"sched_serv_warr\", \"feature_importance\": 0.06874325565734675}, {\"feature\": \"non_sched_serv_warr\", \"feature_importance\": 0.044749671440093335}, {\"feature\": \"sched_serv_paid\", \"feature_importance\": 0.028040339475458163}, {\"feature\": \"non_sched_serv_paid\", \"feature_importance\": 0.015941916905300425}, {\"feature\": \"total_paid_services\", \"feature_importance\": 0.05837810964092821}, {\"feature\": \"total_services\", \"feature_importance\": 0.17389674029917948}, {\"feature\": \"mth_since_last_serv\", \"feature_importance\": 0.258854305488361}, {\"feature\": \"annualised_mileage\", \"feature_importance\": 0.10753032086054484}, {\"feature\": \"num_dealers_visited\", \"feature_importance\": 0.0462005207017845}, {\"feature\": \"num_serv_dealer_purchased\", \"feature_importance\": 0.08612529061270817}, {\"feature\": \"car_model_model_1\", \"feature_importance\": 0.00024203534339300268}, {\"feature\": \"car_model_model_10\", \"feature_importance\": 3.377409268957587e-05}, {\"feature\": \"car_model_model_11\", \"feature_importance\": 9.374778542286494e-05}, {\"feature\": \"car_model_model_12\", \"feature_importance\": 0.0}, {\"feature\": \"car_model_model_13\", \"feature_importance\": 2.039080274801721e-05}, {\"feature\": \"car_model_model_14\", \"feature_importance\": 0.0}, {\"feature\": \"car_model_model_15\", \"feature_importance\": 0.0}, {\"feature\": \"car_model_model_16\", \"feature_importance\": 0.0}, {\"feature\": \"car_model_model_17\", \"feature_importance\": 0.0}, {\"feature\": \"car_model_model_18\", \"feature_importance\": 0.0}, {\"feature\": \"car_model_model_19\", \"feature_importance\": 0.0}, {\"feature\": \"car_model_model_2\", \"feature_importance\": 0.0013558468473562908}, {\"feature\": \"car_model_model_3\", \"feature_importance\": 0.001076057218648053}, {\"feature\": \"car_model_model_4\", \"feature_importance\": 0.00010384169754400775}, {\"feature\": \"car_model_model_5\", \"feature_importance\": 0.0004821984603216929}, {\"feature\": \"car_model_model_6\", \"feature_importance\": 2.652764136107137e-07}, {\"feature\": \"car_model_model_7\", \"feature_importance\": 0.00012911667655676805}, {\"feature\": \"car_model_model_8\", \"feature_importance\": 0.0002726431560500965}, {\"feature\": \"car_model_model_9\", \"feature_importance\": 5.319386713017249e-06}, {\"feature\": \"car_segment_LCV\", \"feature_importance\": 0.0005124879274913386}, {\"feature\": \"car_segment_Large/SUV\", \"feature_importance\": 0.0012437114928596754}, {\"feature\": \"car_segment_Other\", \"feature_importance\": 0.0}, {\"feature\": \"car_segment_Small/Medium\", \"feature_importance\": 0.001320993300035728}]}}, {\"mode\": \"vega-lite\"});\n",
              "</script>"
            ],
            "text/plain": [
              "alt.Chart(...)"
            ]
          },
          "metadata": {},
          "execution_count": 53
        }
      ]
    }
  ],
  "metadata": {
    "colab": {
      "provenance": [],
      "toc_visible": true
    },
    "kernelspec": {
      "display_name": "Python 3",
      "name": "python3"
    }
  },
  "nbformat": 4,
  "nbformat_minor": 0
}